{
 "cells": [
  {
   "cell_type": "code",
   "execution_count": null,
   "id": "ebd1d5c2-451b-414b-9187-7472471efba1",
   "metadata": {},
   "outputs": [],
   "source": [
    "!pip install newsapi-python"
   ]
  },
  {
   "cell_type": "code",
   "execution_count": 6,
   "id": "b97df2dc-a561-45c8-9901-d82e93628e16",
   "metadata": {},
   "outputs": [],
   "source": [
    "import pandas as pd\n",
    "from newsapi import NewsApiClient\n",
    "import sqlite3\n",
    "import logging"
   ]
  },
  {
   "cell_type": "code",
   "execution_count": 7,
   "id": "736f4fa1-6177-4b99-a04b-5453d9beb106",
   "metadata": {},
   "outputs": [],
   "source": [
    "# Initalize NewsApiClient\n",
    "news_api = NewsApiClient(api_key=api_key)"
   ]
  },
  {
   "cell_type": "code",
   "execution_count": 34,
   "id": "38950b03-aed1-4ef0-97b9-8ff8292bc59c",
   "metadata": {},
   "outputs": [
    {
     "name": "stdout",
     "output_type": "stream",
     "text": [
      "{'source': {'id': None, 'name': 'Investing.com'}, 'author': 'Investing.com', 'title': 'Casdin Capital buys $204k of 2seventy bio shares', 'description': 'Casdin Capital buys $204k of 2seventy bio shares', 'url': 'https://www.investing.com/news/company-news/casdin-capital-buys-204k-of-2seventy-bio-shares-93CH-3357878', 'urlToImage': 'https://i-invdn-com.investing.com/news/World_News_9_800x533_L_1420026261.jpg', 'publishedAt': '2024-03-29T00:31:16Z', 'content': 'Casdin Capital, LLC, a prominent investment firm, has made a significant purchase of shares in 2seventy bio, Inc. (NASDAQ:TSVT), a biotechnology company focused on pharmaceutical preparations. The tr… [+3170 chars]'}\n",
      "{'source': {'id': None, 'name': 'CNET'}, 'author': 'Ian Sherr', 'title': 'Elon Musk Makes Grok AI Available to All Paying X Subscribers: What to Know - CNET', 'description': 'The Grok AI chatbot that X has been testing is becoming more widely available.', 'url': 'https://www.cnet.com/tech/elon-musk-makes-grok-ai-available-to-all-paying-x-subscribers-what-to-know/', 'urlToImage': 'https://www.cnet.com/a/img/resize/a5f518008e7b026829622991e95fc6f87a67e83f/hub/2024/03/28/6549b30f-3f66-4cab-b6e2-a72bccdfad1e/grok-gettyimages-2087339180.jpg?auto=webp&fit=crop&height=675&width=1200', 'publishedAt': '2024-03-29T00:30:16Z', 'content': \"Elon Musk is making his company's Grok artificial intelligence chatbot available to more people who pay a monthly subscription for X, his social media network.\\r\\nIn a statement published on X, formerl… [+4197 chars]\"}\n",
      "{'source': {'id': None, 'name': 'Investing.com'}, 'author': 'Investing.com', 'title': 'Voip-Pal director Kevin Williams sells over $6,000 in company stock', 'description': 'Voip-Pal director Kevin Williams sells over $6,000 in company stock', 'url': 'https://www.investing.com/news/company-news/voippal-director-kevin-williams-sells-over-6000-in-company-stock-93CH-3357877', 'urlToImage': 'https://i-invdn-com.investing.com/news/news_six_pile_69x52._800x533_L_1419494215.jpg', 'publishedAt': '2024-03-29T00:24:14Z', 'content': 'Voip-Pal.com Inc (OTCMKTS:VPLM) director Kevin Williams has recently sold a significant portion of his holdings in the company. The transactions, which took place over a series of days, resulted in a… [+3814 chars]'}\n",
      "{'source': {'id': None, 'name': 'Biztoc.com'}, 'author': 'pymnts.com', 'title': 'White House Wants Chief AI Officers to Keep Federal AI Use Responsible', 'description': 'The White House unveiled a groundbreaking policy on Thursday (March 28) that requires federal agencies to identify and mitigate the potential risks of artificial intelligence (AI), emphasizing the government’s commitment to the responsible deployment of AI te…', 'url': 'https://biztoc.com/x/e1792c3ec5142638', 'urlToImage': 'https://c.biztoc.com/p/e1792c3ec5142638/s.webp', 'publishedAt': '2024-03-29T00:22:13Z', 'content': 'The White House unveiled a groundbreaking policy on Thursday (March 28) that requires federal agencies to identify and mitigate the potential risks of artificial intelligence (AI), emphasizing the go… [+295 chars]'}\n",
      "{'source': {'id': None, 'name': 'Kvraudio.com'}, 'author': None, 'title': 'Louis Rossmann uses AI to auto-check EULAs for customer-abusive stipulations (in: Off Topic)', 'description': \"By: cptgone 29 Mar 00:21 He looks like such a nice girl though... who'd have thunk? https://i.imgur.com/mGZTjnp.pngGo to this post Go to first unread post in this topic\", 'url': 'https://www.kvraudio.com/forum/viewtopic.php?p=8876210&utm_source=my_latest_posts&utm_medium=rssfeed&utm_content=8876210#p8876210', 'urlToImage': 'https://static.kvraudio.com/i/b/kvraudio-300x300-grey-eeeeee.png', 'publishedAt': '2024-03-29T00:21:17Z', 'content': 'Pro Audio Forum - VST, AU, AAX Plugin and Audio Software Discussion\\r\\nSkip to content'}\n"
     ]
    }
   ],
   "source": [
    "# Create a function to get all news articles related to AI\n",
    "def extract_news_data():\n",
    "    try:\n",
    "        news = news_api.get_everything(q=\"AI\", language=\"en\", sort_by=\"publishedAt\")\n",
    "        return news[\"articles\"]\n",
    "        logging.info(\"Connection is successful\")\n",
    "    except:\n",
    "        logging.error(\"Connection unsuccessful\")\n",
    "        return None\n",
    "    \n",
    "\n",
    "articles = extract_news_data()\n",
    "for i in range(5):\n",
    "    print(articles[i])"
   ]
  },
  {
   "cell_type": "code",
   "execution_count": 35,
   "id": "edc515d1-db30-4826-ad37-b9769e147e20",
   "metadata": {},
   "outputs": [],
   "source": [
    "def clean_author_col(text):\n",
    "    try:\n",
    "        return text.split(',')[0].title()\n",
    "    except AttributeError:\n",
    "        return \"No Author\""
   ]
  },
  {
   "cell_type": "code",
   "execution_count": 36,
   "id": "c5692e2b-d1f2-4aed-95e7-7744e473cdaa",
   "metadata": {},
   "outputs": [],
   "source": [
    "def transform_news_data(articles):\n",
    "    article_list = []\n",
    "    for article in articles:\n",
    "        article_list.append([article[\"author\"],article[\"title\"],article[\"publishedAt\"],article[\"content\"],article[\"url\"],article[\"source\"][\"name\"]])\n",
    "    articles_df = pd.DataFrame(article_list, columns=[\"Author\", \"Title\", \"PublishedAt\", \"Content\", \"URL\", \"Source\"])\n",
    "    articles_df[\"PublishedAt\"] = pd.to_datetime(articles_df[\"PublishedAt\"]).dt.strftime(\"%Y-%m-%d %H:%M:%S\")\n",
    "    articles_df[\"Author\"] = articles_df[\"Author\"].apply(clean_author_col)\n",
    "    return articles_df    "
   ]
  },
  {
   "cell_type": "code",
   "execution_count": 37,
   "id": "4bd9d4d3-036b-4cd8-9097-4e66bdccdc17",
   "metadata": {},
   "outputs": [
    {
     "data": {
      "text/html": [
       "<div>\n",
       "<style scoped>\n",
       "    .dataframe tbody tr th:only-of-type {\n",
       "        vertical-align: middle;\n",
       "    }\n",
       "\n",
       "    .dataframe tbody tr th {\n",
       "        vertical-align: top;\n",
       "    }\n",
       "\n",
       "    .dataframe thead th {\n",
       "        text-align: right;\n",
       "    }\n",
       "</style>\n",
       "<table border=\"1\" class=\"dataframe\">\n",
       "  <thead>\n",
       "    <tr style=\"text-align: right;\">\n",
       "      <th></th>\n",
       "      <th>Author</th>\n",
       "      <th>Title</th>\n",
       "      <th>PublishedAt</th>\n",
       "      <th>Content</th>\n",
       "      <th>URL</th>\n",
       "      <th>Source</th>\n",
       "    </tr>\n",
       "  </thead>\n",
       "  <tbody>\n",
       "    <tr>\n",
       "      <th>0</th>\n",
       "      <td>Investing.Com</td>\n",
       "      <td>Casdin Capital buys $204k of 2seventy bio shares</td>\n",
       "      <td>2024-03-29 00:31:16</td>\n",
       "      <td>Casdin Capital, LLC, a prominent investment fi...</td>\n",
       "      <td>https://www.investing.com/news/company-news/ca...</td>\n",
       "      <td>Investing.com</td>\n",
       "    </tr>\n",
       "    <tr>\n",
       "      <th>1</th>\n",
       "      <td>Ian Sherr</td>\n",
       "      <td>Elon Musk Makes Grok AI Available to All Payin...</td>\n",
       "      <td>2024-03-29 00:30:16</td>\n",
       "      <td>Elon Musk is making his company's Grok artific...</td>\n",
       "      <td>https://www.cnet.com/tech/elon-musk-makes-grok...</td>\n",
       "      <td>CNET</td>\n",
       "    </tr>\n",
       "    <tr>\n",
       "      <th>2</th>\n",
       "      <td>Investing.Com</td>\n",
       "      <td>Voip-Pal director Kevin Williams sells over $6...</td>\n",
       "      <td>2024-03-29 00:24:14</td>\n",
       "      <td>Voip-Pal.com Inc (OTCMKTS:VPLM) director Kevin...</td>\n",
       "      <td>https://www.investing.com/news/company-news/vo...</td>\n",
       "      <td>Investing.com</td>\n",
       "    </tr>\n",
       "    <tr>\n",
       "      <th>3</th>\n",
       "      <td>Pymnts.Com</td>\n",
       "      <td>White House Wants Chief AI Officers to Keep Fe...</td>\n",
       "      <td>2024-03-29 00:22:13</td>\n",
       "      <td>The White House unveiled a groundbreaking poli...</td>\n",
       "      <td>https://biztoc.com/x/e1792c3ec5142638</td>\n",
       "      <td>Biztoc.com</td>\n",
       "    </tr>\n",
       "    <tr>\n",
       "      <th>4</th>\n",
       "      <td>No Author</td>\n",
       "      <td>Louis Rossmann uses AI to auto-check EULAs for...</td>\n",
       "      <td>2024-03-29 00:21:17</td>\n",
       "      <td>Pro Audio Forum - VST, AU, AAX Plugin and Audi...</td>\n",
       "      <td>https://www.kvraudio.com/forum/viewtopic.php?p...</td>\n",
       "      <td>Kvraudio.com</td>\n",
       "    </tr>\n",
       "  </tbody>\n",
       "</table>\n",
       "</div>"
      ],
      "text/plain": [
       "          Author                                              Title  \\\n",
       "0  Investing.Com   Casdin Capital buys $204k of 2seventy bio shares   \n",
       "1      Ian Sherr  Elon Musk Makes Grok AI Available to All Payin...   \n",
       "2  Investing.Com  Voip-Pal director Kevin Williams sells over $6...   \n",
       "3     Pymnts.Com  White House Wants Chief AI Officers to Keep Fe...   \n",
       "4      No Author  Louis Rossmann uses AI to auto-check EULAs for...   \n",
       "\n",
       "           PublishedAt                                            Content  \\\n",
       "0  2024-03-29 00:31:16  Casdin Capital, LLC, a prominent investment fi...   \n",
       "1  2024-03-29 00:30:16  Elon Musk is making his company's Grok artific...   \n",
       "2  2024-03-29 00:24:14  Voip-Pal.com Inc (OTCMKTS:VPLM) director Kevin...   \n",
       "3  2024-03-29 00:22:13  The White House unveiled a groundbreaking poli...   \n",
       "4  2024-03-29 00:21:17  Pro Audio Forum - VST, AU, AAX Plugin and Audi...   \n",
       "\n",
       "                                                 URL         Source  \n",
       "0  https://www.investing.com/news/company-news/ca...  Investing.com  \n",
       "1  https://www.cnet.com/tech/elon-musk-makes-grok...           CNET  \n",
       "2  https://www.investing.com/news/company-news/vo...  Investing.com  \n",
       "3              https://biztoc.com/x/e1792c3ec5142638     Biztoc.com  \n",
       "4  https://www.kvraudio.com/forum/viewtopic.php?p...   Kvraudio.com  "
      ]
     },
     "execution_count": 37,
     "metadata": {},
     "output_type": "execute_result"
    }
   ],
   "source": [
    "articles_df = transform_news_data(articles)\n",
    "articles_df.head()"
   ]
  },
  {
   "cell_type": "code",
   "execution_count": 42,
   "id": "df9e3d6b-0bed-433c-9d1e-4c5e64353262",
   "metadata": {},
   "outputs": [],
   "source": [
    "def load_news_data(data):\n",
    "    con = sqlite3.connect(\"NewsDB\")\n",
    "    cur = con.cursor()\n",
    "    cur.execute('''CREATE TABLE IF NOT EXISTS news_table(\n",
    "    \"Source\" VARCHAR(30), \n",
    "    \"Author\" TEXT, \n",
    "    \"Title\" TEXT, \n",
    "    \"URL\" TEXT, \n",
    "    \"PublishedAt\" TEXT, \n",
    "    \"Content\" TEXT\n",
    "    )\n",
    "    ''')\n",
    "    data.to_sql(name=\"news_table\", con=con, index=False, if_exists=\"append\")\n",
    "\n",
    "load_news_data(articles_df)"
   ]
  },
  {
   "cell_type": "code",
   "execution_count": null,
   "id": "bc149556-167b-411f-8789-a627d597d430",
   "metadata": {},
   "outputs": [],
   "source": []
  }
 ],
 "metadata": {
  "kernelspec": {
   "display_name": "Python 3 (ipykernel)",
   "language": "python",
   "name": "python3"
  },
  "language_info": {
   "codemirror_mode": {
    "name": "ipython",
    "version": 3
   },
   "file_extension": ".py",
   "mimetype": "text/x-python",
   "name": "python",
   "nbconvert_exporter": "python",
   "pygments_lexer": "ipython3",
   "version": "3.11.5"
  }
 },
 "nbformat": 4,
 "nbformat_minor": 5
}
